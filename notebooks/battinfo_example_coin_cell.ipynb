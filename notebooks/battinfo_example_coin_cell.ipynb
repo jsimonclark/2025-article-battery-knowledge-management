{
 "cells": [
  {
   "cell_type": "markdown",
   "metadata": {},
   "source": [
    "# BattINFO Example: Load and Query an Electrolyte Composition\n",
    "\n",
    "This Jupyter Notebook demonstrates how to process JSON-LD (Linked Data in JSON format) using `rdflib`, a Python library for working with RDF (Resource Description Framework) graphs. We will load an example JSON-LD file containing battery coin cell metadata, convert it into an RDF graph, and perform SPARQL queries to extract structured information.\n",
    "\n",
    "But first, let's load the packages we will need."
   ]
  },
  {
   "cell_type": "code",
   "metadata": {
    "ExecuteTime": {
     "end_time": "2025-03-05T13:37:23.023700Z",
     "start_time": "2025-03-05T13:37:23.016696Z"
    }
   },
   "source": [
    "import json\n",
    "from rdflib import Graph\n",
    "from ontopy import get_ontology\n",
    "from pathlib import Path"
   ],
   "outputs": [],
   "execution_count": 4
  },
  {
   "cell_type": "markdown",
   "metadata": {},
   "source": [
    "## Step 1: Load the Battery Ontology\n",
    "Ontologies define a structured vocabulary for describing data in a machine-readable way. Here, we use `ontopy` to retrieve the `battinfo` ontology, which provides standardized definitions for battery-related concepts such as electrolytes, solvents, and numerical properties."
   ]
  },
  {
   "cell_type": "code",
   "metadata": {
    "ExecuteTime": {
     "end_time": "2025-03-05T13:36:13.391014Z",
     "start_time": "2025-03-05T13:36:01.381302Z"
    }
   },
   "source": [
    "# Loading from web\n",
    "battinfo = get_ontology('https://w3id.org/emmo/domain/battery/inferred').load()\n"
   ],
   "outputs": [],
   "execution_count": 2
  },
  {
   "cell_type": "markdown",
   "metadata": {},
   "source": [
    "## Step 2: Load the JSON-LD File\n",
    "The JSON-LD file contains battery-related metadata in a structured format. We will load this file into Python so that we can convert it into an RDF graph."
   ]
  },
  {
   "cell_type": "code",
   "metadata": {
    "ExecuteTime": {
     "end_time": "2025-03-05T13:40:53.244941Z",
     "start_time": "2025-03-05T13:40:53.234601Z"
    }
   },
   "source": [
    "# Load JSON-LD file\n",
    "file_path = Path().resolve().parent / \"metadata\" / \"battinfo_example_coin_cell.metadata.json\"\n",
    "with open(file_path, \"r\") as file:\n",
    "    jsonld_data = json.load(file)"
   ],
   "outputs": [],
   "execution_count": 10
  },
  {
   "cell_type": "markdown",
   "metadata": {},
   "source": [
    "## Step 3: Initialize and Parse the RDF Graph\n",
    "RDF (Resource Description Framework) is a standard for structuring linked data. Here, we create an RDF graph and populate it with data from the JSON-LD file."
   ]
  },
  {
   "cell_type": "code",
   "metadata": {
    "ExecuteTime": {
     "end_time": "2025-03-05T13:42:10.977074Z",
     "start_time": "2025-03-05T13:42:10.412639Z"
    }
   },
   "source": [
    "g = Graph()\n",
    "g.parse(data=json.dumps(jsonld_data), format=\"json-ld\")"
   ],
   "outputs": [
    {
     "data": {
      "text/plain": [
       "<Graph identifier=N2ed15a6b5e0d47e89c9720df26d04ad4 (<class 'rdflib.graph.Graph'>)>"
      ]
     },
     "execution_count": 11,
     "metadata": {},
     "output_type": "execute_result"
    }
   ],
   "execution_count": 11
  },
  {
   "cell_type": "markdown",
   "metadata": {},
   "source": [
    "## Step 4: Query the Graph using SPARQL\n",
    "SPARQL is a query language for retrieving information from RDF graphs. In this query, we retrieve:\n",
    "- The coin cell identifier and its human-readable label\n",
    "- The nominal voltage \n",
    "- The mass"
   ]
  },
  {
   "cell_type": "code",
   "metadata": {
    "ExecuteTime": {
     "end_time": "2025-03-05T13:42:16.238288Z",
     "start_time": "2025-03-05T13:42:16.229807Z"
    }
   },
   "source": [
    "query = f\"\"\"\n",
    "PREFIX emmo: <https://w3id.org/emmo/domain/battery/>\n",
    "PREFIX rdfs: <http://www.w3.org/2000/01/rdf-schema#>\n",
    "SELECT ?cell ?cellLabel ?mass ?voltage WHERE {{\n",
    "    ?cell a <{battinfo.CoinCell.iri}> ;\n",
    "          rdfs:label ?cellLabel .\n",
    "    OPTIONAL {{\n",
    "        ?cell <{battinfo.hasProperty.iri}> ?massProperty .\n",
    "        ?massProperty a <{battinfo.Mass.iri}> ;\n",
    "                     <{battinfo.hasNumericalPart.iri}> ?massValue .\n",
    "        ?massValue <{battinfo.hasNumberValue.iri}> ?mass .\n",
    "    }}\n",
    "    OPTIONAL {{\n",
    "        ?cell <{battinfo.hasProperty.iri}> ?voltageProperty .\n",
    "        ?voltageProperty a <{battinfo.NominalVoltage.iri}> ;\n",
    "                        <{battinfo.hasNumericalPart.iri}> ?voltageValue .\n",
    "        ?voltageValue <{battinfo.hasNumberValue.iri}> ?voltage .\n",
    "    }}\n",
    "}}\n",
    "\"\"\""
   ],
   "outputs": [],
   "execution_count": 12
  },
  {
   "cell_type": "markdown",
   "metadata": {},
   "source": [
    "## Step 5: Execute the SPARQL Query\n",
    "This retrieves the relevant data from our RDF graph, ensuring that we get human-readable labels instead of cryptic UUIDs or blank nodes."
   ]
  },
  {
   "cell_type": "code",
   "metadata": {
    "ExecuteTime": {
     "end_time": "2025-03-05T13:42:23.136491Z",
     "start_time": "2025-03-05T13:42:22.451605Z"
    }
   },
   "source": [
    "# Execute query\n",
    "results = g.query(query)"
   ],
   "outputs": [],
   "execution_count": 13
  },
  {
   "cell_type": "markdown",
   "metadata": {},
   "source": [
    "## Step 6: Display Results\n",
    "We process the query results and format them for easy readability."
   ]
  },
  {
   "cell_type": "code",
   "metadata": {
    "ExecuteTime": {
     "end_time": "2025-03-05T13:42:25.637468Z",
     "start_time": "2025-03-05T13:42:25.628219Z"
    }
   },
   "source": [
    "output = []\n",
    "for row in results:\n",
    "    output.append(f\"Label: {row.cellLabel}, \"\n",
    "                  f\"Mass: {row.mass} g, Voltage: {row.voltage} V\")\n",
    "\n",
    "print(\"Coin Cell Metadata:\")\n",
    "for line in output:\n",
    "    print(line)"
   ],
   "outputs": [
    {
     "name": "stdout",
     "output_type": "stream",
     "text": [
      "Coin Cell Metadata:\n",
      "Label: IFpR2032, Mass: 3 g, Voltage: 3.2 V\n"
     ]
    }
   ],
   "execution_count": 14
  },
  {
   "cell_type": "markdown",
   "metadata": {},
   "source": [
    "## Summary\n",
    "This notebook demonstrated how to process and query JSON-LD data representing battery coin cell metadata. We loaded the data into an RDF graph, executed a SPARQL query to extract structured information, and retrieved human-readable labels for better interpretability. This approach highlights the power of semantic data models in making battery-related knowledge more accessible to both humans and machine agents."
   ]
  }
 ],
 "metadata": {
  "kernelspec": {
   "display_name": ".venv",
   "language": "python",
   "name": "python3"
  },
  "language_info": {
   "codemirror_mode": {
    "name": "ipython",
    "version": 3
   },
   "file_extension": ".py",
   "mimetype": "text/x-python",
   "name": "python",
   "nbconvert_exporter": "python",
   "pygments_lexer": "ipython3",
   "version": "3.10.10"
  }
 },
 "nbformat": 4,
 "nbformat_minor": 2
}
