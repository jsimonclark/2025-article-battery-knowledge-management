{
 "cells": [
  {
   "cell_type": "markdown",
   "metadata": {},
   "source": [
    "# BattINFO Example: Load and Query an Electrolyte Composition\n",
    "\n",
    "This Jupyter Notebook demonstrates how to process JSON-LD (Linked Data in JSON format) using `rdflib`, a Python library for working with RDF (Resource Description Framework) graphs. We will load an example JSON-LD file containing battery electrolyte metadata, convert it into an RDF graph, and perform SPARQL queries to extract structured information.\n",
    "\n",
    "But first, let's load the packages we will need."
   ]
  },
  {
   "cell_type": "code",
   "metadata": {
    "ExecuteTime": {
     "end_time": "2025-03-05T13:43:31.424185Z",
     "start_time": "2025-03-05T13:43:31.418982Z"
    }
   },
   "source": [
    "import json\n",
    "from rdflib import Graph\n",
    "from ontopy import get_ontology\n",
    "from pathlib import Path"
   ],
   "outputs": [],
   "execution_count": 3
  },
  {
   "cell_type": "markdown",
   "metadata": {},
   "source": [
    "## Step 1: Load the Battery Ontology\n",
    "Ontologies define a structured vocabulary for describing data in a machine-readable way. Here, we use `ontopy` to retrieve the `battinfo` ontology, which provides standardized definitions for battery-related concepts such as electrolytes, solvents, and numerical properties."
   ]
  },
  {
   "cell_type": "code",
   "metadata": {
    "ExecuteTime": {
     "end_time": "2025-03-05T13:43:20.196788Z",
     "start_time": "2025-03-05T13:43:10.337107Z"
    }
   },
   "source": [
    "# Loading from web\n",
    "battinfo = get_ontology('https://w3id.org/emmo/domain/battery/inferred').load()\n"
   ],
   "outputs": [],
   "execution_count": 2
  },
  {
   "cell_type": "markdown",
   "metadata": {},
   "source": [
    "## Step 2: Load the JSON-LD File\n",
    "The JSON-LD file contains battery-related metadata in a structured format. We will load this file into Python so that we can convert it into an RDF graph."
   ]
  },
  {
   "cell_type": "code",
   "metadata": {
    "ExecuteTime": {
     "end_time": "2025-03-05T13:43:57.838871Z",
     "start_time": "2025-03-05T13:43:57.831057Z"
    }
   },
   "source": [
    "# Load JSON-LD file\n",
    "file_path = Path().resolve().parent / \"metadata\" / \"battinfo_example_electrolyte.metadata.json\"\n",
    "with open(file_path, \"r\") as file:\n",
    "    jsonld_data = json.load(file)"
   ],
   "outputs": [],
   "execution_count": 4
  },
  {
   "cell_type": "markdown",
   "metadata": {},
   "source": [
    "## Step 3: Initialize and Parse the RDF Graph\n",
    "RDF (Resource Description Framework) is a standard for structuring linked data. Here, we create an RDF graph and populate it with data from the JSON-LD file."
   ]
  },
  {
   "cell_type": "code",
   "metadata": {
    "ExecuteTime": {
     "end_time": "2025-03-05T13:44:00.428267Z",
     "start_time": "2025-03-05T13:43:59.939372Z"
    }
   },
   "source": [
    "g = Graph()\n",
    "g.parse(data=json.dumps(jsonld_data), format=\"json-ld\")"
   ],
   "outputs": [
    {
     "data": {
      "text/plain": [
       "<Graph identifier=N63f9e8b2379a4cc79b8d2a92f112e375 (<class 'rdflib.graph.Graph'>)>"
      ]
     },
     "execution_count": 5,
     "metadata": {},
     "output_type": "execute_result"
    }
   ],
   "execution_count": 5
  },
  {
   "cell_type": "markdown",
   "metadata": {},
   "source": [
    "## Step 4: Query the Graph using SPARQL\n",
    "SPARQL is a query language for retrieving information from RDF graphs. In this query, we retrieve:\n",
    "- The electrolyte identifier and its human-readable label\n",
    "- The components of the electrolyte (e.g., solvents, additives)\n",
    "- The concentration of each component"
   ]
  },
  {
   "cell_type": "code",
   "metadata": {
    "ExecuteTime": {
     "end_time": "2025-03-05T13:44:02.611964Z",
     "start_time": "2025-03-05T13:44:02.601741Z"
    }
   },
   "source": [
    "# Query the graph for electrolyte composition using UUID IRIs\n",
    "query = f\"\"\"\n",
    "PREFIX emmo: <https://w3id.org/emmo/domain/battery/>\n",
    "PREFIX rdfs: <http://www.w3.org/2000/01/rdf-schema#>\n",
    "SELECT ?electrolyte ?electrolyteLabel ?component ?amount ?componentLabel WHERE {{\n",
    "    ?electrolyte a <{battinfo.Electrolyte.iri}> ;\n",
    "                rdfs:label ?electrolyteLabel ;\n",
    "                <{battinfo.hasSolvent.iri}> ?solvent .\n",
    "    ?solvent <{battinfo.hasConstituent.iri}> ?component .\n",
    "    ?component <{battinfo.hasProperty.iri}> ?property .\n",
    "    ?component rdfs:label ?componentLabel .\n",
    "    ?property <{battinfo.hasNumericalPart.iri}> ?value .\n",
    "    ?value <{battinfo.hasNumberValue.iri}> ?amount .\n",
    "}}\n",
    "\"\"\""
   ],
   "outputs": [],
   "execution_count": 6
  },
  {
   "cell_type": "markdown",
   "metadata": {},
   "source": [
    "## Step 5: Execute the SPARQL Query\n",
    "This retrieves the relevant data from our RDF graph, ensuring that we get human-readable labels instead of cryptic UUIDs or blank nodes."
   ]
  },
  {
   "cell_type": "code",
   "metadata": {
    "ExecuteTime": {
     "end_time": "2025-03-05T13:44:05.698915Z",
     "start_time": "2025-03-05T13:44:05.077575Z"
    }
   },
   "source": [
    "# Execute query\n",
    "results = g.query(query)"
   ],
   "outputs": [],
   "execution_count": 7
  },
  {
   "cell_type": "markdown",
   "metadata": {},
   "source": [
    "## Step 6: Display Results\n",
    "We process the query results and format them for easy readability."
   ]
  },
  {
   "cell_type": "code",
   "metadata": {
    "ExecuteTime": {
     "end_time": "2025-03-05T13:44:09.316348Z",
     "start_time": "2025-03-05T13:44:09.308443Z"
    }
   },
   "source": [
    "# Retrieve prefLabels from EMMOntoPy for the UUID-based IRIs\n",
    "output = []\n",
    "for row in results:\n",
    "    component_label = row.componentLabel if row.componentLabel else row.component\n",
    "    electrolyte_label = row.electrolyteLabel if row.electrolyteLabel else row.electrolyte\n",
    "    output.append(f\"Component: {component_label}, Volume Fraction: {row.amount}\")\n",
    "\n",
    "# Print results\n",
    "print(f\"Electrolyte: {electrolyte_label}\")\n",
    "for line in output:\n",
    "    print(line)"
   ],
   "outputs": [
    {
     "name": "stdout",
     "output_type": "stream",
     "text": [
      "Electrolyte: 1M LiPF6 in DMC:EC:EMC 1:1:1 (vol.) + 2 wt% VC\n",
      "Component: ethylene carbonate, Volume Fraction: 0.334\n",
      "Component: diethylene carbonate, Volume Fraction: 0.333\n",
      "Component: dimethyl carbonate, Volume Fraction: 0.333\n"
     ]
    }
   ],
   "execution_count": 8
  },
  {
   "cell_type": "markdown",
   "metadata": {},
   "source": [
    "## Summary\n",
    "This notebook demonstrated how to process and query JSON-LD data representing battery electrolyte compositions. We loaded the data into an RDF graph, executed a SPARQL query to extract structured information, and retrieved human-readable labels for better interpretability. This approach highlights the power of semantic data models in making battery-related knowledge more accessible to both humans and machine agents."
   ]
  }
 ],
 "metadata": {
  "kernelspec": {
   "display_name": ".venv",
   "language": "python",
   "name": "python3"
  },
  "language_info": {
   "codemirror_mode": {
    "name": "ipython",
    "version": 3
   },
   "file_extension": ".py",
   "mimetype": "text/x-python",
   "name": "python",
   "nbconvert_exporter": "python",
   "pygments_lexer": "ipython3",
   "version": "3.10.10"
  }
 },
 "nbformat": 4,
 "nbformat_minor": 2
}
