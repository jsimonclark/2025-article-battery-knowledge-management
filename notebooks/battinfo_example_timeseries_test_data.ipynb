{
 "cells": [
  {
   "cell_type": "markdown",
   "metadata": {},
   "source": [
    "# BattINFO Example: Load and Query an Electrolyte Composition\n",
    "\n",
    "This Jupyter Notebook demonstrates how to process JSON-LD (Linked Data in JSON format) using `rdflib`, a Python library for working with RDF (Resource Description Framework) graphs. We will load an example JSON-LD file containing battery time-series test metadata, convert it into an RDF graph, and perform SPARQL queries to extract structured information.\n",
    "\n",
    "But first, let's load the packages we will need."
   ]
  },
  {
   "cell_type": "code",
   "metadata": {
    "ExecuteTime": {
     "end_time": "2025-03-05T13:44:32.497884Z",
     "start_time": "2025-03-05T13:44:31.822006Z"
    }
   },
   "source": [
    "import json\n",
    "from rdflib import Graph\n",
    "from ontopy import get_ontology\n",
    "from pathlib import Path"
   ],
   "outputs": [],
   "execution_count": 1
  },
  {
   "cell_type": "markdown",
   "metadata": {},
   "source": [
    "## Step 1: Load the Battery Ontology\n",
    "Ontologies define a structured vocabulary for describing data in a machine-readable way. Here, we use `ontopy` to retrieve the `battinfo` ontology, which provides standardized definitions for battery-related test data concepts such as time, voltage, and current."
   ]
  },
  {
   "cell_type": "code",
   "metadata": {
    "ExecuteTime": {
     "end_time": "2025-03-05T13:44:44.347953Z",
     "start_time": "2025-03-05T13:44:32.510432Z"
    }
   },
   "source": [
    "# Loading from web\n",
    "battinfo = get_ontology('https://w3id.org/emmo/domain/battery/inferred').load()\n"
   ],
   "outputs": [],
   "execution_count": 2
  },
  {
   "cell_type": "markdown",
   "metadata": {},
   "source": [
    "## Step 2: Load the JSON-LD File\n",
    "The JSON-LD file contains battery-related metadata in a structured format. We will load this file into Python so that we can convert it into an RDF graph."
   ]
  },
  {
   "cell_type": "code",
   "metadata": {
    "ExecuteTime": {
     "end_time": "2025-03-05T13:44:47.167729Z",
     "start_time": "2025-03-05T13:44:47.159927Z"
    }
   },
   "source": [
    "# Load JSON-LD file\n",
    "file_path = Path().resolve().parent / \"metadata\" / \"battinfo_example_timeseries_test_data.metadata.json\"\n",
    "with open(file_path, \"r\") as file:\n",
    "    jsonld_data = json.load(file)"
   ],
   "outputs": [],
   "execution_count": 3
  },
  {
   "cell_type": "markdown",
   "metadata": {},
   "source": [
    "## Step 3: Initialize and Parse the RDF Graph\n",
    "RDF (Resource Description Framework) is a standard for structuring linked data. Here, we create an RDF graph and populate it with data from the JSON-LD file."
   ]
  },
  {
   "cell_type": "code",
   "metadata": {
    "ExecuteTime": {
     "end_time": "2025-03-05T13:44:54.113527Z",
     "start_time": "2025-03-05T13:44:53.645362Z"
    }
   },
   "source": [
    "g = Graph()\n",
    "g.parse(data=json.dumps(jsonld_data), format=\"json-ld\")"
   ],
   "outputs": [
    {
     "data": {
      "text/plain": [
       "<Graph identifier=N3707e9ec0f57446ab16428118bda9d38 (<class 'rdflib.graph.Graph'>)>"
      ]
     },
     "execution_count": 4,
     "metadata": {},
     "output_type": "execute_result"
    }
   ],
   "execution_count": 4
  },
  {
   "cell_type": "markdown",
   "metadata": {},
   "source": [
    "## Step 4: Query the Graph using SPARQL\n",
    "SPARQL is a query language for retrieving information from RDF graphs. In this query, we retrieve:\n",
    "- The measurement types (test time, voltage, and current)\n",
    "- Their associated units\n",
    "- Whether they are required fields"
   ]
  },
  {
   "cell_type": "code",
   "metadata": {
    "ExecuteTime": {
     "end_time": "2025-03-05T13:44:56.847932Z",
     "start_time": "2025-03-05T13:44:56.840898Z"
    }
   },
   "source": [
    "query = f\"\"\"\n",
    "PREFIX emmo: <https://w3id.org/emmo/domain/battery/>\n",
    "PREFIX csvw: <http://www.w3.org/ns/csvw#>\n",
    "PREFIX rdfs: <http://www.w3.org/2000/01/rdf-schema#>\n",
    "SELECT ?columnName ?columnTitle ?propertyType ?propertyClass ?unit ?required WHERE {{\n",
    "    ?column a csvw:Column ;\n",
    "            csvw:name ?columnName ;\n",
    "            csvw:titles ?columnTitle ;\n",
    "            csvw:propertyUrl ?propertyType .\n",
    "    OPTIONAL {{ ?column csvw:required ?required . }}\n",
    "    OPTIONAL {{ ?column <{battinfo.hasMeasurementUnit.iri}> ?unit . }}\n",
    "    OPTIONAL {{ ?propertyType a ?propertyClass . }}\n",
    "}}\n",
    "\"\"\"\n"
   ],
   "outputs": [],
   "execution_count": 5
  },
  {
   "cell_type": "markdown",
   "metadata": {},
   "source": [
    "## Step 5: Execute the SPARQL Query\n",
    "This retrieves the relevant data from our RDF graph, ensuring that we get human-readable labels instead of cryptic UUIDs or blank nodes."
   ]
  },
  {
   "cell_type": "code",
   "metadata": {
    "ExecuteTime": {
     "end_time": "2025-03-05T13:44:59.857811Z",
     "start_time": "2025-03-05T13:44:59.484606Z"
    }
   },
   "source": [
    "# Execute query\n",
    "results = g.query(query)"
   ],
   "outputs": [],
   "execution_count": 6
  },
  {
   "cell_type": "markdown",
   "metadata": {},
   "source": [
    "## Step 6: Display Results\n",
    "We process the query results and format them for easy readability."
   ]
  },
  {
   "cell_type": "code",
   "metadata": {
    "ExecuteTime": {
     "end_time": "2025-03-05T13:45:01.488367Z",
     "start_time": "2025-03-05T13:45:01.471350Z"
    }
   },
   "source": [
    "output = []\n",
    "for row in results:\n",
    "    required_status = \"Required\" if row.required and row.required.lower() == \"true\" else \"Optional\"\n",
    "    property_name = battinfo.search_one(iri=row.propertyClass).prefLabel[0]\n",
    "    unit_name = battinfo.search_one(iri=row.unit).prefLabel[0]\n",
    "    output.append(f\"Column: {row.columnName} ({row.columnTitle}), \"\n",
    "                  f\"Property Class: {property_name}, Unit: {unit_name}, Required: {required_status}\")\n",
    "\n",
    "print(\"Time-Series Test Data Schema:\")\n",
    "for line in output:\n",
    "    print(line)"
   ],
   "outputs": [
    {
     "name": "stdout",
     "output_type": "stream",
     "text": [
      "Time-Series Test Data Schema:\n",
      "Column: test_time_millisecond (Test Time  /  ms), Property Class: TestTime, Unit: MilliSecond, Required: Required\n",
      "Column: voltage_volt (Voltage  /  V), Property Class: Voltage, Unit: Volt, Required: Required\n",
      "Column: current_ampere (Current  /  A), Property Class: ElectricCurrent, Unit: Ampere, Required: Required\n"
     ]
    }
   ],
   "execution_count": 7
  },
  {
   "cell_type": "markdown",
   "metadata": {},
   "source": [
    "## Summary\n",
    "This notebook demonstrated how to process and query JSON-LD data representing battery test metadata. We loaded the data into an RDF graph, executed a SPARQL query to extract structured information, and retrieved human-readable labels for better interpretability. This approach highlights the power of semantic data models in making battery-related test data more accessible to both humans and machine agents."
   ]
  }
 ],
 "metadata": {
  "kernelspec": {
   "display_name": ".venv",
   "language": "python",
   "name": "python3"
  },
  "language_info": {
   "codemirror_mode": {
    "name": "ipython",
    "version": 3
   },
   "file_extension": ".py",
   "mimetype": "text/x-python",
   "name": "python",
   "nbconvert_exporter": "python",
   "pygments_lexer": "ipython3",
   "version": "3.10.10"
  }
 },
 "nbformat": 4,
 "nbformat_minor": 2
}
